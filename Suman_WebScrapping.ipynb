{
 "cells": [
  {
   "cell_type": "code",
   "execution_count": 1,
   "metadata": {},
   "outputs": [],
   "source": [
    "#!pip install requests"
   ]
  },
  {
   "cell_type": "code",
   "execution_count": 2,
   "metadata": {},
   "outputs": [],
   "source": [
    "#!pip install bs4"
   ]
  },
  {
   "cell_type": "code",
   "execution_count": 3,
   "metadata": {},
   "outputs": [],
   "source": [
    "import requests\n",
    "from bs4 import BeautifulSoup"
   ]
  },
  {
   "cell_type": "code",
   "execution_count": 4,
   "metadata": {},
   "outputs": [],
   "source": [
    "base_url=\"https://www.amazon.in/s?k=\""
   ]
  },
  {
   "cell_type": "code",
   "execution_count": 5,
   "metadata": {},
   "outputs": [],
   "source": [
    "search_query=\"samsung+mobiles\" #Scrapping for samsung mobiles"
   ]
  },
  {
   "cell_type": "code",
   "execution_count": 6,
   "metadata": {},
   "outputs": [
    {
     "name": "stdout",
     "output_type": "stream",
     "text": [
      "https://www.amazon.in/s?k=samsung+mobiles\n"
     ]
    }
   ],
   "source": [
    "url= base_url+search_query\n",
    "print(url)"
   ]
  },
  {
   "cell_type": "code",
   "execution_count": 7,
   "metadata": {},
   "outputs": [
    {
     "data": {
      "text/plain": [
       "503"
      ]
     },
     "execution_count": 7,
     "metadata": {},
     "output_type": "execute_result"
    }
   ],
   "source": [
    "search_response=requests.get(url)\n",
    "search_response.status_code"
   ]
  },
  {
   "cell_type": "code",
   "execution_count": null,
   "metadata": {},
   "outputs": [],
   "source": []
  },
  {
   "cell_type": "code",
   "execution_count": null,
   "metadata": {},
   "outputs": [],
   "source": []
  },
  {
   "cell_type": "code",
   "execution_count": 8,
   "metadata": {},
   "outputs": [],
   "source": [
    "header={'User-Agent': 'Mozilla/5.0 (Windows NT 10.0; Win64; x64) AppleWebKit/537.36 (KHTML, like Gecko) Chrome/78.0.3904.108 Safari/537.36'}"
   ]
  },
  {
   "cell_type": "code",
   "execution_count": 9,
   "metadata": {},
   "outputs": [],
   "source": [
    "search_response=requests.get(url,headers=header)"
   ]
  },
  {
   "cell_type": "code",
   "execution_count": 10,
   "metadata": {},
   "outputs": [
    {
     "data": {
      "text/plain": [
       "200"
      ]
     },
     "execution_count": 10,
     "metadata": {},
     "output_type": "execute_result"
    }
   ],
   "source": [
    "search_response.status_code"
   ]
  },
  {
   "cell_type": "code",
   "execution_count": 11,
   "metadata": {},
   "outputs": [],
   "source": [
    "cookie={'csm-hit':'tb:s-E8FE47NSC74HNFD3AT3V|1572687092457&t:1572687092764&adb:adblk_yes','i18n-prefs':'INR','session-id':'262-2333999-3083217',\n",
    "       'session-id-time':'2082758401l','session-token':'rqcMeHlaYmvysT7cB5v50esY/C2bZFSkfxO1N0gXyDU56WtBVFDjwZ8RMytIU2uEXPVdTYcK9Fys2zGtybP9lylqvF3kZoPR1BvBRo5S4v3MpXsVRZFBGO09Vv0vgvx9x/GCr4826FvwGosI6ltH6j7MlFJttEEg3HPpHr4DtLo8P+SUbVqFAOxdd09jUp7g',\n",
    "       'ubid-acbin':'259-5652650-2836063','visitCount':'4','x-wl-uid':'1yA6Q8A53wsM5W1bc2Rrjmtfqjc7YnoDKdpCh3GrkNRd3Aimn2sVgdAdwjkGOGtQrLm7MoObMNBI='}"
   ]
  },
  {
   "cell_type": "code",
   "execution_count": 12,
   "metadata": {},
   "outputs": [],
   "source": [
    "def getAmazonSearch(search_query):\n",
    "    url=\"https://www.amazon.in/s?k=\"+search_query\n",
    "    print(url)\n",
    "    page=requests.get(url,cookies=cookie,headers=header)\n",
    "    if page.status_code==200:\n",
    "        return page\n",
    "    else:\n",
    "        return \"Error\"\n",
    "    #print(page.content)\n",
    "    #If the status_code is 200, i.e., HTTP request succeeded otherwise it will return a message \"Error\""
   ]
  },
  {
   "cell_type": "code",
   "execution_count": 13,
   "metadata": {},
   "outputs": [
    {
     "name": "stdout",
     "output_type": "stream",
     "text": [
      "https://www.amazon.in/s?k=samsung+mobiles\n"
     ]
    }
   ],
   "source": [
    "search_response=getAmazonSearch(\"samsung+mobiles\")"
   ]
  },
  {
   "cell_type": "code",
   "execution_count": 58,
   "metadata": {},
   "outputs": [],
   "source": [
    "#search_response.content"
   ]
  },
  {
   "cell_type": "code",
   "execution_count": 15,
   "metadata": {},
   "outputs": [],
   "source": [
    "soup=BeautifulSoup(search_response.content)"
   ]
  },
  {
   "cell_type": "code",
   "execution_count": 59,
   "metadata": {},
   "outputs": [],
   "source": [
    "#soup.prettify"
   ]
  },
  {
   "cell_type": "code",
   "execution_count": 17,
   "metadata": {},
   "outputs": [
    {
     "data": {
      "text/plain": [
       "<title>Amazon.in: samsung mobiles</title>"
      ]
     },
     "execution_count": 17,
     "metadata": {},
     "output_type": "execute_result"
    }
   ],
   "source": [
    "soup.title"
   ]
  },
  {
   "cell_type": "code",
   "execution_count": 18,
   "metadata": {},
   "outputs": [
    {
     "data": {
      "text/plain": [
       "<span class=\"a-size-medium a-color-base a-text-normal\">Samsung Galaxy M30s ( Blue, 6GB RAM, Super AMOLED Display, 128GB Storage, 6000mAH Battery)</span>"
      ]
     },
     "execution_count": 18,
     "metadata": {},
     "output_type": "execute_result"
    }
   ],
   "source": [
    "soup.find(\"span\",attrs={'class':'a-size-medium a-color-base a-text-normal'}) #After Inspecting the class name for the first product and checking if the output is coming out perfectly, so that it will be same for the all the products in that particular page"
   ]
  },
  {
   "cell_type": "code",
   "execution_count": 19,
   "metadata": {},
   "outputs": [],
   "source": [
    "product_list_tag=soup.findAll(\"span\",attrs={'class':'a-size-medium a-color-base a-text-normal'}) #In product_list_tag all the products in that particular page is kept"
   ]
  },
  {
   "cell_type": "code",
   "execution_count": 20,
   "metadata": {},
   "outputs": [
    {
     "data": {
      "text/plain": [
       "bs4.element.ResultSet"
      ]
     },
     "execution_count": 20,
     "metadata": {},
     "output_type": "execute_result"
    }
   ],
   "source": [
    "type(product_list_tag)"
   ]
  },
  {
   "cell_type": "code",
   "execution_count": 21,
   "metadata": {},
   "outputs": [
    {
     "data": {
      "text/plain": [
       "[<span class=\"a-size-medium a-color-base a-text-normal\">Samsung Galaxy M30s ( Blue, 6GB RAM, Super AMOLED Display, 128GB Storage, 6000mAH Battery)</span>,\n",
       " <span class=\"a-size-medium a-color-base a-text-normal\">Samsung Galaxy M10s (Stainless Black, 3GB RAM, Super AMOLED Display, 32GB Storage, 4000mAH Battery)</span>,\n",
       " <span class=\"a-size-medium a-color-base a-text-normal\">Samsung Galaxy M30s (Sapphire Blue, 4GB RAM, Super AMOLED Display, 64GB Storage, 6000mAH Battery)</span>,\n",
       " <span class=\"a-size-medium a-color-base a-text-normal\">Samsung Galaxy M10s (Stainless Black, 3GB RAM, Super AMOLED Display, 32GB Storage, 4000mAH Battery)</span>,\n",
       " <span class=\"a-size-medium a-color-base a-text-normal\">Samsung Galaxy M10s (Metallic Blue, 3GB RAM, Super AMOLED Display, 32GB Storage, 4000mAH Battery)</span>,\n",
       " <span class=\"a-size-medium a-color-base a-text-normal\">Samsung Galaxy M30 (Gradation Blue, 5000mAh Battery, Super AMOLED Display, 4GB RAM, 64GB Storage)</span>,\n",
       " <span class=\"a-size-medium a-color-base a-text-normal\">Samsung Galaxy M10 (Charcoal Black, 3GB RAM, 32GB Storage)</span>,\n",
       " <span class=\"a-size-medium a-color-base a-text-normal\">Samsung Galaxy M30 (Stainless Black, 5000mAh Battery, Super AMOLED Display, 3GB RAM, 32GB Storage)</span>,\n",
       " <span class=\"a-size-medium a-color-base a-text-normal\">Samsung Galaxy M30s (Opal Black, 6GB RAM, Super AMOLED Display, 128GB Storage, 6000mAH Battery)</span>,\n",
       " <span class=\"a-size-medium a-color-base a-text-normal\">Samsung Galaxy M20 (Ocean Blue , 4GB RAM, 64GB Storage, 5000mAH Battery)</span>,\n",
       " <span class=\"a-size-medium a-color-base a-text-normal\">Xiaomi Mi A3 (Kind of Grey, 6GB RAM, AMOLED Display, 128GB Storage, 4030mAH Battery)</span>,\n",
       " <span class=\"a-size-medium a-color-base a-text-normal\">Samsung Galaxy M30s ( Blue, 6GB RAM, Super AMOLED Display, 128GB Storage, 6000mAH Battery)</span>,\n",
       " <span class=\"a-size-medium a-color-base a-text-normal\">Samsung Galaxy M30s (Pearl White, 4GB RAM, Super AMOLED Display, 64GB Storage, 6000mAH Battery)</span>,\n",
       " <span class=\"a-size-medium a-color-base a-text-normal\">Samsung Galaxy M30 (Metallic Blue, 5000mAh Battery, Super AMOLED Display, 3GB RAM, 32GB Storage)</span>,\n",
       " <span class=\"a-size-medium a-color-base a-text-normal\">Samsung Galaxy A50 (Blue, 4GB RAM, 64GB Storage) with No Cost EMI/Additional Exchange Offers</span>,\n",
       " <span class=\"a-size-medium a-color-base a-text-normal\">Samsung Galaxy M30 (Gradation Black, 5000 mAh Battery, Super AMOLED Display, 4GB RAM, 64GB Storage)</span>,\n",
       " <span class=\"a-size-medium a-color-base a-text-normal\">Samsung Galaxy M30s (Opal Black, 4GB RAM, Super AMOLED Display, 64GB Storage, 6000mAH Battery)</span>,\n",
       " <span class=\"a-size-medium a-color-base a-text-normal\">Samsung Galaxy M20 (Ocean Blue , 3GB RAM, 32GB Storage, 5000mAH Battery)</span>,\n",
       " <span class=\"a-size-medium a-color-base a-text-normal\">Samsung Galaxy M40 (Midnight Blue, 6GB RAM, 128GB Storage)</span>]"
      ]
     },
     "execution_count": 21,
     "metadata": {},
     "output_type": "execute_result"
    }
   ],
   "source": [
    "product_list_tag"
   ]
  },
  {
   "cell_type": "code",
   "execution_count": 22,
   "metadata": {},
   "outputs": [
    {
     "name": "stdout",
     "output_type": "stream",
     "text": [
      "https://www.amazon.in/s?k=samsung+mobiles\n"
     ]
    }
   ],
   "source": [
    "data_asin=[]\n",
    "response=getAmazonSearch('samsung+mobiles')\n",
    "#beautifulsoup is a package\n",
    "soup=BeautifulSoup(response.content)\n",
    "for i in soup.findAll(\"div\",{'class':\"sg-col-20-of-24 s-result-item sg-col-0-of-12 sg-col-28-of-32 sg-col-16-of-20 sg-col sg-col-32-of-36 sg-col-12-of-16 sg-col-24-of-28\"}):\n",
    "    data_asin.append(i['data-asin']) #Storing all the asin number of all the products(samsung+products) in that particular page"
   ]
  },
  {
   "cell_type": "code",
   "execution_count": 23,
   "metadata": {},
   "outputs": [
    {
     "data": {
      "text/plain": [
       "['',\n",
       " 'B07HGMQX6N',\n",
       " 'B07HGHZ2K9',\n",
       " 'B07HGH82LT',\n",
       " 'B07HGJJ58K',\n",
       " 'B07HGKHV8Y',\n",
       " 'B07HGJJ568',\n",
       " 'B07HGJK54G',\n",
       " 'B07HGH3G6H',\n",
       " 'B07HGJ7WM6',\n",
       " 'B07HGJKDQT',\n",
       " 'B07HGJFP9M',\n",
       " 'B07KXBMYCW',\n",
       " 'B07HGJJ57K',\n",
       " 'B07HGLB1TJ',\n",
       " 'B07HGN619D',\n",
       " 'B07HGJKDRR']"
      ]
     },
     "execution_count": 23,
     "metadata": {},
     "output_type": "execute_result"
    }
   ],
   "source": [
    "data_asin"
   ]
  },
  {
   "cell_type": "code",
   "execution_count": 24,
   "metadata": {},
   "outputs": [],
   "source": [
    "def footer(search_query):\n",
    "    url=\"https://www.amazon.in/dp/\"+search_query\n",
    "    print(url)\n",
    "    page=requests.get(url,cookies=cookie,headers=header)\n",
    "    if page.status_code==200:\n",
    "        return page\n",
    "    else:\n",
    "        return \"Error\"\n",
    "    #print(page.content)\n",
    "    #Accessing each products with their asin number"
   ]
  },
  {
   "cell_type": "code",
   "execution_count": 25,
   "metadata": {
    "scrolled": true
   },
   "outputs": [
    {
     "name": "stdout",
     "output_type": "stream",
     "text": [
      "https://www.amazon.in/dp/B07HGMQX6N\n",
      "https://www.amazon.in/dp/B07HGHZ2K9\n",
      "https://www.amazon.in/dp/B07HGH82LT\n",
      "https://www.amazon.in/dp/B07HGJJ58K\n",
      "https://www.amazon.in/dp/B07HGKHV8Y\n",
      "https://www.amazon.in/dp/B07HGJJ568\n",
      "https://www.amazon.in/dp/B07HGJK54G\n",
      "https://www.amazon.in/dp/B07HGH3G6H\n",
      "https://www.amazon.in/dp/B07HGJ7WM6\n",
      "https://www.amazon.in/dp/B07HGJKDQT\n",
      "https://www.amazon.in/dp/B07HGJFP9M\n",
      "https://www.amazon.in/dp/B07KXBMYCW\n",
      "https://www.amazon.in/dp/B07HGJJ57K\n",
      "https://www.amazon.in/dp/B07HGLB1TJ\n",
      "https://www.amazon.in/dp/B07HGN619D\n",
      "https://www.amazon.in/dp/B07HGJKDRR\n"
     ]
    }
   ],
   "source": [
    "link=[]\n",
    "for i in range(len(data_asin)-1):\n",
    "    response=footer(data_asin[i+1])\n",
    "#beautifulsoup is a package\n",
    "    soup=BeautifulSoup(response.content)\n",
    "    for i in soup.findAll(\"a\",{'data-hook':\"see-all-reviews-link-foot\"}):\n",
    "        link.append(i['href'])"
   ]
  },
  {
   "cell_type": "code",
   "execution_count": 26,
   "metadata": {},
   "outputs": [],
   "source": [
    "def revi(search_query):\n",
    "    url=\"https://www.amazon.in\"+search_query\n",
    "    #print(url)\n",
    "    page=requests.get(url,cookies=cookie,headers=header)\n",
    "    if page.status_code==200:\n",
    "        return page\n",
    "    else:\n",
    "        return \"Error\""
   ]
  },
  {
   "cell_type": "code",
   "execution_count": 41,
   "metadata": {},
   "outputs": [],
   "source": [
    "review=[]\n",
    "ratings=[]\n",
    "for j in range(len(link)):\n",
    "    for k in range(50):\n",
    "        response=revi(link[j]+'&pageNumber='+str(k))\n",
    "#beautifulsoup is a package\n",
    "        soup=BeautifulSoup(response.content)\n",
    "        for i in soup.findAll(\"span\",{'data-hook':\"review-body\"}):\n",
    "            review.append(i.text)\n",
    "        for star in soup.findAll(\"i\",attrs={'data-hook':\"review-star-rating\"}):\n",
    "            ratings.append(star.text)\n",
    "#Collecting the reviews as well as rating for 50 pages for each products"
   ]
  },
  {
   "cell_type": "code",
   "execution_count": 28,
   "metadata": {},
   "outputs": [
    {
     "name": "stderr",
     "output_type": "stream",
     "text": [
      "IOPub data rate exceeded.\n",
      "The notebook server will temporarily stop sending output\n",
      "to the client in order to avoid crashing it.\n",
      "To change this limit, set the config variable\n",
      "`--NotebookApp.iopub_data_rate_limit`.\n",
      "\n",
      "Current values:\n",
      "NotebookApp.iopub_data_rate_limit=1000000.0 (bytes/sec)\n",
      "NotebookApp.rate_limit_window=3.0 (secs)\n",
      "\n"
     ]
    }
   ],
   "source": [
    "#print(review)"
   ]
  },
  {
   "cell_type": "code",
   "execution_count": 42,
   "metadata": {},
   "outputs": [
    {
     "data": {
      "text/plain": [
       "8000"
      ]
     },
     "execution_count": 42,
     "metadata": {},
     "output_type": "execute_result"
    }
   ],
   "source": [
    "len(ratings) "
   ]
  },
  {
   "cell_type": "code",
   "execution_count": 43,
   "metadata": {},
   "outputs": [],
   "source": [
    "import pandas as pd"
   ]
  },
  {
   "cell_type": "code",
   "execution_count": 44,
   "metadata": {},
   "outputs": [],
   "source": [
    "r={'reviews':review}"
   ]
  },
  {
   "cell_type": "code",
   "execution_count": 45,
   "metadata": {},
   "outputs": [],
   "source": [
    "df=pd.DataFrame.from_dict(r)"
   ]
  },
  {
   "cell_type": "code",
   "execution_count": 47,
   "metadata": {},
   "outputs": [],
   "source": [
    "df['Ratings']=ratings #Merging the ratings in the data frame"
   ]
  },
  {
   "cell_type": "code",
   "execution_count": 53,
   "metadata": {},
   "outputs": [],
   "source": [
    "df.to_csv('Suman_webscrapping_Amazon.csv',index=False)"
   ]
  },
  {
   "cell_type": "code",
   "execution_count": 54,
   "metadata": {},
   "outputs": [
    {
     "data": {
      "text/plain": [
       "8000"
      ]
     },
     "execution_count": 54,
     "metadata": {},
     "output_type": "execute_result"
    }
   ],
   "source": [
    "len(df)"
   ]
  },
  {
   "cell_type": "code",
   "execution_count": 55,
   "metadata": {},
   "outputs": [
    {
     "data": {
      "text/html": [
       "<div>\n",
       "<style scoped>\n",
       "    .dataframe tbody tr th:only-of-type {\n",
       "        vertical-align: middle;\n",
       "    }\n",
       "\n",
       "    .dataframe tbody tr th {\n",
       "        vertical-align: top;\n",
       "    }\n",
       "\n",
       "    .dataframe thead th {\n",
       "        text-align: right;\n",
       "    }\n",
       "</style>\n",
       "<table border=\"1\" class=\"dataframe\">\n",
       "  <thead>\n",
       "    <tr style=\"text-align: right;\">\n",
       "      <th></th>\n",
       "      <th>reviews</th>\n",
       "      <th>Ratings</th>\n",
       "    </tr>\n",
       "  </thead>\n",
       "  <tbody>\n",
       "    <tr>\n",
       "      <td>0</td>\n",
       "      <td>I expected much from this mobile but still for...</td>\n",
       "      <td>4.0 out of 5 stars</td>\n",
       "    </tr>\n",
       "    <tr>\n",
       "      <td>1</td>\n",
       "      <td>camera , battery , quality , grip ... and as i...</td>\n",
       "      <td>5.0 out of 5 stars</td>\n",
       "    </tr>\n",
       "    <tr>\n",
       "      <td>2</td>\n",
       "      <td>Delivered within 24 hours.Looks awesome.Batter...</td>\n",
       "      <td>5.0 out of 5 stars</td>\n",
       "    </tr>\n",
       "    <tr>\n",
       "      <td>3</td>\n",
       "      <td>Pros:1.Looks stunning high end category.2.Batt...</td>\n",
       "      <td>3.0 out of 5 stars</td>\n",
       "    </tr>\n",
       "    <tr>\n",
       "      <td>4</td>\n",
       "      <td>Bestest phone...Good battery lifeAmazing came...</td>\n",
       "      <td>5.0 out of 5 stars</td>\n",
       "    </tr>\n",
       "    <tr>\n",
       "      <td>...</td>\n",
       "      <td>...</td>\n",
       "      <td>...</td>\n",
       "    </tr>\n",
       "    <tr>\n",
       "      <td>7995</td>\n",
       "      <td>Camera quality is poor and battery backup is l...</td>\n",
       "      <td>4.0 out of 5 stars</td>\n",
       "    </tr>\n",
       "    <tr>\n",
       "      <td>7996</td>\n",
       "      <td>Dislike : 1. Battery life - should be better c...</td>\n",
       "      <td>2.0 out of 5 stars</td>\n",
       "    </tr>\n",
       "    <tr>\n",
       "      <td>7997</td>\n",
       "      <td>Good phone, 6gb ram is good no lag in daily us...</td>\n",
       "      <td>4.0 out of 5 stars</td>\n",
       "    </tr>\n",
       "    <tr>\n",
       "      <td>7998</td>\n",
       "      <td>Repenting that i have selected one of the wors...</td>\n",
       "      <td>1.0 out of 5 stars</td>\n",
       "    </tr>\n",
       "    <tr>\n",
       "      <td>7999</td>\n",
       "      <td>If I use my mobile when it is on a table or be...</td>\n",
       "      <td>2.0 out of 5 stars</td>\n",
       "    </tr>\n",
       "  </tbody>\n",
       "</table>\n",
       "<p>8000 rows × 2 columns</p>\n",
       "</div>"
      ],
      "text/plain": [
       "                                                reviews             Ratings\n",
       "0     I expected much from this mobile but still for...  4.0 out of 5 stars\n",
       "1     camera , battery , quality , grip ... and as i...  5.0 out of 5 stars\n",
       "2     Delivered within 24 hours.Looks awesome.Batter...  5.0 out of 5 stars\n",
       "3     Pros:1.Looks stunning high end category.2.Batt...  3.0 out of 5 stars\n",
       "4      Bestest phone...Good battery lifeAmazing came...  5.0 out of 5 stars\n",
       "...                                                 ...                 ...\n",
       "7995  Camera quality is poor and battery backup is l...  4.0 out of 5 stars\n",
       "7996  Dislike : 1. Battery life - should be better c...  2.0 out of 5 stars\n",
       "7997  Good phone, 6gb ram is good no lag in daily us...  4.0 out of 5 stars\n",
       "7998  Repenting that i have selected one of the wors...  1.0 out of 5 stars\n",
       "7999  If I use my mobile when it is on a table or be...  2.0 out of 5 stars\n",
       "\n",
       "[8000 rows x 2 columns]"
      ]
     },
     "execution_count": 55,
     "metadata": {},
     "output_type": "execute_result"
    }
   ],
   "source": [
    "df"
   ]
  },
  {
   "cell_type": "code",
   "execution_count": 56,
   "metadata": {},
   "outputs": [
    {
     "data": {
      "text/plain": [
       "8000"
      ]
     },
     "execution_count": 56,
     "metadata": {},
     "output_type": "execute_result"
    }
   ],
   "source": [
    "len(ratings) #8000 ratings"
   ]
  },
  {
   "cell_type": "code",
   "execution_count": 57,
   "metadata": {},
   "outputs": [
    {
     "data": {
      "text/plain": [
       "8000"
      ]
     },
     "execution_count": 57,
     "metadata": {},
     "output_type": "execute_result"
    }
   ],
   "source": [
    "len(review) #8000 reviews scrapped"
   ]
  },
  {
   "cell_type": "code",
   "execution_count": 61,
   "metadata": {},
   "outputs": [
    {
     "data": {
      "text/plain": [
       "(8000, 2)"
      ]
     },
     "execution_count": 61,
     "metadata": {},
     "output_type": "execute_result"
    }
   ],
   "source": [
    "df.shape"
   ]
  },
  {
   "cell_type": "code",
   "execution_count": null,
   "metadata": {},
   "outputs": [],
   "source": []
  }
 ],
 "metadata": {
  "kernelspec": {
   "display_name": "Python 3",
   "language": "python",
   "name": "python3"
  },
  "language_info": {
   "codemirror_mode": {
    "name": "ipython",
    "version": 3
   },
   "file_extension": ".py",
   "mimetype": "text/x-python",
   "name": "python",
   "nbconvert_exporter": "python",
   "pygments_lexer": "ipython3",
   "version": "3.7.4"
  }
 },
 "nbformat": 4,
 "nbformat_minor": 2
}
